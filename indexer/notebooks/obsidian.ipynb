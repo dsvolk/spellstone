{
 "cells": [
  {
   "attachments": {},
   "cell_type": "markdown",
   "metadata": {},
   "source": [
    "# ObsidianTools examples"
   ]
  },
  {
   "cell_type": "code",
   "execution_count": 1,
   "metadata": {},
   "outputs": [],
   "source": [
    "import sys \n",
    "sys.path.append('..')\n",
    "\n",
    "import os\n",
    "from dotenv import load_dotenv\n",
    "load_dotenv('.env', override=True)\n",
    "\n",
    "import obsidiantools.api as otools\n",
    "from obsidiantools.md_utils import get_tags\n",
    "from pprint import pprint\n",
    "import markdown\n",
    "import frontmatter"
   ]
  },
  {
   "cell_type": "code",
   "execution_count": 2,
   "metadata": {},
   "outputs": [
    {
     "data": {
      "text/plain": [
       "'/Users/dvolk/repo/cobrain-dev/vault'"
      ]
     },
     "execution_count": 2,
     "metadata": {},
     "output_type": "execute_result"
    }
   ],
   "source": [
    "VAULT_DIR = os.environ.get('OBSIDIAN_VAULT_DIR')\n",
    "VAULT_DIR"
   ]
  },
  {
   "cell_type": "code",
   "execution_count": 3,
   "metadata": {},
   "outputs": [],
   "source": [
    "class Section:\n",
    "    def __init__(self, title, level):\n",
    "        self.title = title\n",
    "        self.level = level\n",
    "        self.content = []\n",
    "        self.subsections = []\n",
    "\n",
    "    def add_content(self, content):\n",
    "        self.content.append(content)\n",
    "\n",
    "    def add_subsection(self, subsection):\n",
    "        self.subsections.append(subsection)\n",
    "\n",
    "    def __repr__(self):\n",
    "        return f\"Section(title={self.title}, level={self.level}, content={self.content}, subsections={self.subsections})\"\n"
   ]
  },
  {
   "cell_type": "code",
   "execution_count": 4,
   "metadata": {},
   "outputs": [],
   "source": [
    "def parse_markdown(file_path):\n",
    "    root = Section(title=\"root\", level=0)\n",
    "    current_section = root\n",
    "\n",
    "    with open(file_path, 'r') as file:\n",
    "        for line in file:\n",
    "            line = line.strip()\n",
    "            if line.startswith('#'):\n",
    "                # Count the level of the section\n",
    "                level = len(line.split(' ')[0])\n",
    "                title = line[level+1:].strip()\n",
    "\n",
    "                # Create a new section\n",
    "                new_section = Section(title=title, level=level)\n",
    "\n",
    "                # Find the correct parent for the new section\n",
    "                while current_section.level >= level:\n",
    "                    current_section = current_section.parent\n",
    "                current_section.add_subsection(new_section)\n",
    "                \n",
    "                # Update current section\n",
    "                new_section.parent = current_section\n",
    "                current_section = new_section\n",
    "            else:\n",
    "                # Add line to the content of the current section\n",
    "                current_section.add_content(line)\n",
    "\n",
    "    return root\n"
   ]
  },
  {
   "cell_type": "code",
   "execution_count": 5,
   "metadata": {},
   "outputs": [],
   "source": [
    "MAX_FILES = 10\n",
    "\n",
    "def load_markdown_files(directory):\n",
    "    file_count = 0\n",
    "    for filename in os.listdir(directory):\n",
    "        if filename.endswith(\".md\"):\n",
    "            print(filename)\n",
    "            filepath = os.path.join(directory, filename)\n",
    "            # tags = get_tags(filepath, show_nested=True)\n",
    "            # print(f\"Tags: {tags}\") if tags else None\n",
    "\n",
    "            with open(filepath) as f:\n",
    "                metadata, content = frontmatter.parse(f.read())\n",
    "            \n",
    "            print(f\"Frontmatter: {metadata}\")\n",
    "\n",
    "            sections = parse_markdown(filepath)\n",
    "\n",
    "            yield filepath, metadata.get(\"tags\", []), sections\n",
    "\n",
    "            file_count += 1\n",
    "            if file_count >= MAX_FILES:\n",
    "                break\n",
    "\n",
    "            # with open(filepath, 'r', encoding='utf-8') as file:\n",
    "            #     text = file.read()\n",
    "            #     content = markdown.markdown(text)\n",
    "            #     metadata = content.metadata if hasattr(content, 'metadata') else {}\n",
    "            #     tags = metadata.get('tags', '').split(', ') if 'tags' in metadata else []\n",
    "            #     yield content, tags"
   ]
  },
  {
   "cell_type": "code",
   "execution_count": 6,
   "metadata": {},
   "outputs": [
    {
     "name": "stdout",
     "output_type": "stream",
     "text": [
      "Lessons on ML Platforms — from Netflix, DoorDash, Spotify, and more _ by Ernest Chan _ May, 2021 _ Towards Data Science.md\n"
     ]
    },
    {
     "ename": "AttributeError",
     "evalue": "module 'frontmatter' has no attribute 'parse'",
     "output_type": "error",
     "traceback": [
      "\u001b[0;31m---------------------------------------------------------------------------\u001b[0m",
      "\u001b[0;31mAttributeError\u001b[0m                            Traceback (most recent call last)",
      "Cell \u001b[0;32mIn[6], line 1\u001b[0m\n\u001b[0;32m----> 1\u001b[0m \u001b[38;5;28;01mfor\u001b[39;00m content, tags, sections \u001b[38;5;129;01min\u001b[39;00m load_markdown_files(VAULT_DIR \u001b[38;5;241m+\u001b[39m \u001b[38;5;124m'\u001b[39m\u001b[38;5;124m/notes\u001b[39m\u001b[38;5;124m'\u001b[39m):\n\u001b[1;32m      2\u001b[0m     \u001b[38;5;28mprint\u001b[39m(content)\n\u001b[1;32m      3\u001b[0m     \u001b[38;5;28mprint\u001b[39m(tags)\n",
      "Cell \u001b[0;32mIn[5], line 13\u001b[0m, in \u001b[0;36mload_markdown_files\u001b[0;34m(directory)\u001b[0m\n\u001b[1;32m      9\u001b[0m \u001b[38;5;66;03m# tags = get_tags(filepath, show_nested=True)\u001b[39;00m\n\u001b[1;32m     10\u001b[0m \u001b[38;5;66;03m# print(f\"Tags: {tags}\") if tags else None\u001b[39;00m\n\u001b[1;32m     12\u001b[0m \u001b[38;5;28;01mwith\u001b[39;00m \u001b[38;5;28mopen\u001b[39m(filepath) \u001b[38;5;28;01mas\u001b[39;00m f:\n\u001b[0;32m---> 13\u001b[0m     metadata, content \u001b[38;5;241m=\u001b[39m \u001b[43mfrontmatter\u001b[49m\u001b[38;5;241;43m.\u001b[39;49m\u001b[43mparse\u001b[49m(f\u001b[38;5;241m.\u001b[39mread())\n\u001b[1;32m     15\u001b[0m \u001b[38;5;28mprint\u001b[39m(\u001b[38;5;124mf\u001b[39m\u001b[38;5;124m\"\u001b[39m\u001b[38;5;124mFrontmatter: \u001b[39m\u001b[38;5;132;01m{\u001b[39;00mmetadata\u001b[38;5;132;01m}\u001b[39;00m\u001b[38;5;124m\"\u001b[39m)\n\u001b[1;32m     17\u001b[0m sections \u001b[38;5;241m=\u001b[39m parse_markdown(filepath)\n",
      "\u001b[0;31mAttributeError\u001b[0m: module 'frontmatter' has no attribute 'parse'"
     ]
    }
   ],
   "source": [
    "for content, tags, sections in load_markdown_files(VAULT_DIR + '/notes'):\n",
    "    print(content)\n",
    "    print(tags)\n",
    "    print(sections)\n",
    "    print()\n",
    "    print('---')"
   ]
  },
  {
   "cell_type": "code",
   "execution_count": null,
   "metadata": {},
   "outputs": [],
   "source": []
  },
  {
   "cell_type": "code",
   "execution_count": null,
   "metadata": {},
   "outputs": [],
   "source": []
  },
  {
   "cell_type": "code",
   "execution_count": null,
   "metadata": {},
   "outputs": [],
   "source": [
    "vault = otools.Vault(\"/Users/dvolk/repo/cobrain/vault/\").connect(attachments=False).gather()"
   ]
  },
  {
   "cell_type": "code",
   "execution_count": null,
   "metadata": {},
   "outputs": [],
   "source": [
    "vault.get_all_file_metadata()"
   ]
  },
  {
   "cell_type": "code",
   "execution_count": null,
   "metadata": {},
   "outputs": [],
   "source": [
    "vault.md_file_index"
   ]
  },
  {
   "cell_type": "code",
   "execution_count": null,
   "metadata": {},
   "outputs": [],
   "source": []
  }
 ],
 "metadata": {
  "kernelspec": {
   "display_name": ".venv",
   "language": "python",
   "name": "python3"
  },
  "language_info": {
   "codemirror_mode": {
    "name": "ipython",
    "version": 3
   },
   "file_extension": ".py",
   "mimetype": "text/x-python",
   "name": "python",
   "nbconvert_exporter": "python",
   "pygments_lexer": "ipython3",
   "version": "3.10.9"
  },
  "orig_nbformat": 4
 },
 "nbformat": 4,
 "nbformat_minor": 2
}
