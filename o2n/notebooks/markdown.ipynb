{
 "cells": [
  {
   "attachments": {},
   "cell_type": "markdown",
   "metadata": {},
   "source": [
    "# Markdown experiments"
   ]
  },
  {
   "cell_type": "code",
   "execution_count": 3,
   "metadata": {},
   "outputs": [],
   "source": [
    "import sys \n",
    "sys.path.append('..')\n",
    "\n",
    "import os\n",
    "from dotenv import load_dotenv\n",
    "load_dotenv(override=True)\n",
    "\n",
    "from llama_index.readers.file import MarkdownReader\n",
    "from llama_index.readers.obsidian import ObsidianReader"
   ]
  },
  {
   "cell_type": "code",
   "execution_count": 2,
   "metadata": {},
   "outputs": [
    {
     "data": {
      "text/plain": [
       "598"
      ]
     },
     "execution_count": 2,
     "metadata": {},
     "output_type": "execute_result"
    }
   ],
   "source": [
    "documents = ObsidianReader(\n",
    "    os.environ.get('OBSIDIAN_VAULT_DIR')\n",
    ").load_data()\n",
    "\n",
    "len(documents)"
   ]
  },
  {
   "cell_type": "code",
   "execution_count": 5,
   "metadata": {},
   "outputs": [],
   "source": [
    "from llama_index.vector_stores.neo4jvector import Neo4jVectorStore\n",
    "from llama_index.core import VectorStoreIndex, SimpleDirectoryReader\n",
    "from llama_index.core import StorageContext\n",
    "\n",
    "from llama_index.core.indices import MultiModalVectorStoreIndex\n",
    "from llama_index.vector_stores.neo4jvector import Neo4jVectorStore\n",
    "from llama_index.core import StorageContext, Document\n",
    "from llama_index.core.schema import ImageDocument\n",
    "from llama_index.core.node_parser import SimpleNodeParser\n",
    "from llama_index.multi_modal_llms.openai import OpenAIMultiModal\n",
    "\n",
    "from indexer.neo4j import Neo4jConfig\n"
   ]
  },
  {
   "cell_type": "code",
   "execution_count": 18,
   "metadata": {},
   "outputs": [
    {
     "data": {
      "text/plain": [
       "[]"
      ]
     },
     "execution_count": 18,
     "metadata": {},
     "output_type": "execute_result"
    }
   ],
   "source": [
    "# Delete the graph\n",
    "\n",
    "# from langchain_community.graphs import Neo4jGraph\n",
    "# graph = Neo4jGraph(url=Neo4jConfig.NEO4J_URI, username=Neo4jConfig.NEO4J_USERNAME, password=Neo4jConfig.NEO4J_PASSWORD, database=Neo4jConfig.NEO4J_DATABASE)\n",
    "\n",
    "# graph.query(\"MATCH (n) DETACH DELETE n\")"
   ]
  },
  {
   "cell_type": "code",
   "execution_count": 17,
   "metadata": {},
   "outputs": [],
   "source": [
    "embed_dim = 1536\n",
    "neo4j_vector = Neo4jVectorStore(username=Neo4jConfig.NEO4J_USERNAME, password=Neo4jConfig.NEO4J_PASSWORD, url=Neo4jConfig.NEO4J_URI, embedding_dimension=embed_dim, hybrid_search=True)\n",
    "\n",
    "# (, , , database=Neo4jConfig.NEO4J_DATABASE)\n",
    "\n",
    "storage_context = StorageContext.from_defaults(vector_store=neo4j_vector)\n",
    "index = VectorStoreIndex.from_documents(\n",
    "    documents, storage_context=storage_context\n",
    ")"
   ]
  },
  {
   "cell_type": "code",
   "execution_count": 16,
   "metadata": {},
   "outputs": [
    {
     "data": {
      "text/plain": [
       "'Your highlights of Tbilisi include having breakfast with Arthur Nafigov and Tanya Mitropolskaya, who are planning to obtain citizenship in Cyprus and are learning Greek. You also mentioned reminiscing about Kostya Zhukov, who decided to stay in Russia. Additionally, Tanya travels to France to watch figure skating, and both of them actively travel to various countries like Romania and Lebanon. They are also into sports, particularly running. You recommended Vake Park in Tbilisi for running.'"
      ]
     },
     "execution_count": 16,
     "metadata": {},
     "output_type": "execute_result"
    }
   ],
   "source": [
    "query_engine = index.as_query_engine()\n",
    "response = query_engine.query(\"My highlights of  Tbilisi?\")\n",
    "response.response"
   ]
  },
  {
   "cell_type": "code",
   "execution_count": null,
   "metadata": {},
   "outputs": [],
   "source": []
  },
  {
   "cell_type": "code",
   "execution_count": null,
   "metadata": {},
   "outputs": [],
   "source": []
  },
  {
   "cell_type": "code",
   "execution_count": null,
   "metadata": {},
   "outputs": [],
   "source": []
  },
  {
   "cell_type": "code",
   "execution_count": 2,
   "metadata": {},
   "outputs": [
    {
     "data": {
      "text/plain": [
       "'/Users/dvolk/repo/cobrain-dev/vault/notes/👾 OkGPT.md'"
      ]
     },
     "execution_count": 2,
     "metadata": {},
     "output_type": "execute_result"
    }
   ],
   "source": [
    "filename = os.environ.get('OBSIDIAN_DEFAULT_FILE')\n",
    "filename"
   ]
  },
  {
   "cell_type": "code",
   "execution_count": null,
   "metadata": {},
   "outputs": [],
   "source": [
    "parser = MarkdownReader()\n",
    "file_extractor = {\".md\": parser}\n",
    "documents = SimpleDirectoryReader(\n",
    "    \"./data\", file_extractor=file_extractor\n",
    ").load_data()"
   ]
  }
 ],
 "metadata": {
  "kernelspec": {
   "display_name": ".venv",
   "language": "python",
   "name": "python3"
  },
  "language_info": {
   "codemirror_mode": {
    "name": "ipython",
    "version": 3
   },
   "file_extension": ".py",
   "mimetype": "text/x-python",
   "name": "python",
   "nbconvert_exporter": "python",
   "pygments_lexer": "ipython3",
   "version": "3.10.9"
  },
  "orig_nbformat": 4
 },
 "nbformat": 4,
 "nbformat_minor": 2
}
